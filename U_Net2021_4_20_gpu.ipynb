{
  "nbformat": 4,
  "nbformat_minor": 0,
  "metadata": {
    "colab": {
      "name": "U-Net2021.4.20_gpu.ipynb",
      "provenance": [],
      "collapsed_sections": [],
      "toc_visible": true,
      "machine_shape": "hm",
      "include_colab_link": true
    },
    "kernelspec": {
      "display_name": "Python 3",
      "name": "python3"
    },
    "language_info": {
      "name": "python"
    },
    "widgets": {
      "application/vnd.jupyter.widget-state+json": {
        "5b09eeecb19843d78a55abdddd727151": {
          "model_module": "@jupyter-widgets/controls",
          "model_name": "HBoxModel",
          "state": {
            "_view_name": "HBoxView",
            "_dom_classes": [],
            "_model_name": "HBoxModel",
            "_view_module": "@jupyter-widgets/controls",
            "_model_module_version": "1.5.0",
            "_view_count": null,
            "_view_module_version": "1.5.0",
            "box_style": "",
            "layout": "IPY_MODEL_fb588e24306442088b73604afe25e81a",
            "_model_module": "@jupyter-widgets/controls",
            "children": [
              "IPY_MODEL_95b7a2628111414fa460d106e97792c9",
              "IPY_MODEL_b8fbf5b777544cc59c8ec8ced97d1b30"
            ]
          }
        },
        "fb588e24306442088b73604afe25e81a": {
          "model_module": "@jupyter-widgets/base",
          "model_name": "LayoutModel",
          "state": {
            "_view_name": "LayoutView",
            "grid_template_rows": null,
            "right": null,
            "justify_content": null,
            "_view_module": "@jupyter-widgets/base",
            "overflow": null,
            "_model_module_version": "1.2.0",
            "_view_count": null,
            "flex_flow": null,
            "width": null,
            "min_width": null,
            "border": null,
            "align_items": null,
            "bottom": null,
            "_model_module": "@jupyter-widgets/base",
            "top": null,
            "grid_column": null,
            "overflow_y": null,
            "overflow_x": null,
            "grid_auto_flow": null,
            "grid_area": null,
            "grid_template_columns": null,
            "flex": null,
            "_model_name": "LayoutModel",
            "justify_items": null,
            "grid_row": null,
            "max_height": null,
            "align_content": null,
            "visibility": null,
            "align_self": null,
            "height": null,
            "min_height": null,
            "padding": null,
            "grid_auto_rows": null,
            "grid_gap": null,
            "max_width": null,
            "order": null,
            "_view_module_version": "1.2.0",
            "grid_template_areas": null,
            "object_position": null,
            "object_fit": null,
            "grid_auto_columns": null,
            "margin": null,
            "display": null,
            "left": null
          }
        },
        "95b7a2628111414fa460d106e97792c9": {
          "model_module": "@jupyter-widgets/controls",
          "model_name": "FloatProgressModel",
          "state": {
            "_view_name": "ProgressView",
            "style": "IPY_MODEL_f1e6cac624ee4683b3c51e78b4849ee2",
            "_dom_classes": [],
            "description": " 47%",
            "_model_name": "FloatProgressModel",
            "bar_style": "danger",
            "max": 2000,
            "_view_module": "@jupyter-widgets/controls",
            "_model_module_version": "1.5.0",
            "value": 932,
            "_view_count": null,
            "_view_module_version": "1.5.0",
            "orientation": "horizontal",
            "min": 0,
            "description_tooltip": null,
            "_model_module": "@jupyter-widgets/controls",
            "layout": "IPY_MODEL_8a8bb22b1a89402aa93188dd7b181ac1"
          }
        },
        "b8fbf5b777544cc59c8ec8ced97d1b30": {
          "model_module": "@jupyter-widgets/controls",
          "model_name": "HTMLModel",
          "state": {
            "_view_name": "HTMLView",
            "style": "IPY_MODEL_8ca497e3d9af416caef0dec2ab8efde7",
            "_dom_classes": [],
            "description": "",
            "_model_name": "HTMLModel",
            "placeholder": "​",
            "_view_module": "@jupyter-widgets/controls",
            "_model_module_version": "1.5.0",
            "value": " 932/2000 [03:10&lt;03:37,  4.91it/s]",
            "_view_count": null,
            "_view_module_version": "1.5.0",
            "description_tooltip": null,
            "_model_module": "@jupyter-widgets/controls",
            "layout": "IPY_MODEL_a856b6d4116b426191e9512b330f07fe"
          }
        },
        "f1e6cac624ee4683b3c51e78b4849ee2": {
          "model_module": "@jupyter-widgets/controls",
          "model_name": "ProgressStyleModel",
          "state": {
            "_view_name": "StyleView",
            "_model_name": "ProgressStyleModel",
            "description_width": "initial",
            "_view_module": "@jupyter-widgets/base",
            "_model_module_version": "1.5.0",
            "_view_count": null,
            "_view_module_version": "1.2.0",
            "bar_color": null,
            "_model_module": "@jupyter-widgets/controls"
          }
        },
        "8a8bb22b1a89402aa93188dd7b181ac1": {
          "model_module": "@jupyter-widgets/base",
          "model_name": "LayoutModel",
          "state": {
            "_view_name": "LayoutView",
            "grid_template_rows": null,
            "right": null,
            "justify_content": null,
            "_view_module": "@jupyter-widgets/base",
            "overflow": null,
            "_model_module_version": "1.2.0",
            "_view_count": null,
            "flex_flow": null,
            "width": null,
            "min_width": null,
            "border": null,
            "align_items": null,
            "bottom": null,
            "_model_module": "@jupyter-widgets/base",
            "top": null,
            "grid_column": null,
            "overflow_y": null,
            "overflow_x": null,
            "grid_auto_flow": null,
            "grid_area": null,
            "grid_template_columns": null,
            "flex": null,
            "_model_name": "LayoutModel",
            "justify_items": null,
            "grid_row": null,
            "max_height": null,
            "align_content": null,
            "visibility": null,
            "align_self": null,
            "height": null,
            "min_height": null,
            "padding": null,
            "grid_auto_rows": null,
            "grid_gap": null,
            "max_width": null,
            "order": null,
            "_view_module_version": "1.2.0",
            "grid_template_areas": null,
            "object_position": null,
            "object_fit": null,
            "grid_auto_columns": null,
            "margin": null,
            "display": null,
            "left": null
          }
        },
        "8ca497e3d9af416caef0dec2ab8efde7": {
          "model_module": "@jupyter-widgets/controls",
          "model_name": "DescriptionStyleModel",
          "state": {
            "_view_name": "StyleView",
            "_model_name": "DescriptionStyleModel",
            "description_width": "",
            "_view_module": "@jupyter-widgets/base",
            "_model_module_version": "1.5.0",
            "_view_count": null,
            "_view_module_version": "1.2.0",
            "_model_module": "@jupyter-widgets/controls"
          }
        },
        "a856b6d4116b426191e9512b330f07fe": {
          "model_module": "@jupyter-widgets/base",
          "model_name": "LayoutModel",
          "state": {
            "_view_name": "LayoutView",
            "grid_template_rows": null,
            "right": null,
            "justify_content": null,
            "_view_module": "@jupyter-widgets/base",
            "overflow": null,
            "_model_module_version": "1.2.0",
            "_view_count": null,
            "flex_flow": null,
            "width": null,
            "min_width": null,
            "border": null,
            "align_items": null,
            "bottom": null,
            "_model_module": "@jupyter-widgets/base",
            "top": null,
            "grid_column": null,
            "overflow_y": null,
            "overflow_x": null,
            "grid_auto_flow": null,
            "grid_area": null,
            "grid_template_columns": null,
            "flex": null,
            "_model_name": "LayoutModel",
            "justify_items": null,
            "grid_row": null,
            "max_height": null,
            "align_content": null,
            "visibility": null,
            "align_self": null,
            "height": null,
            "min_height": null,
            "padding": null,
            "grid_auto_rows": null,
            "grid_gap": null,
            "max_width": null,
            "order": null,
            "_view_module_version": "1.2.0",
            "grid_template_areas": null,
            "object_position": null,
            "object_fit": null,
            "grid_auto_columns": null,
            "margin": null,
            "display": null,
            "left": null
          }
        },
        "21b23805932a42ba9af2d68643a33926": {
          "model_module": "@jupyter-widgets/controls",
          "model_name": "HBoxModel",
          "state": {
            "_view_name": "HBoxView",
            "_dom_classes": [],
            "_model_name": "HBoxModel",
            "_view_module": "@jupyter-widgets/controls",
            "_model_module_version": "1.5.0",
            "_view_count": null,
            "_view_module_version": "1.5.0",
            "box_style": "",
            "layout": "IPY_MODEL_0961f351fa9a4971a702530350b486c0",
            "_model_module": "@jupyter-widgets/controls",
            "children": [
              "IPY_MODEL_5d0a0bb459c84b5885fa2ff774f5747f",
              "IPY_MODEL_79a07fa37aee4d179170e11db941aa16"
            ]
          }
        },
        "0961f351fa9a4971a702530350b486c0": {
          "model_module": "@jupyter-widgets/base",
          "model_name": "LayoutModel",
          "state": {
            "_view_name": "LayoutView",
            "grid_template_rows": null,
            "right": null,
            "justify_content": null,
            "_view_module": "@jupyter-widgets/base",
            "overflow": null,
            "_model_module_version": "1.2.0",
            "_view_count": null,
            "flex_flow": null,
            "width": null,
            "min_width": null,
            "border": null,
            "align_items": null,
            "bottom": null,
            "_model_module": "@jupyter-widgets/base",
            "top": null,
            "grid_column": null,
            "overflow_y": null,
            "overflow_x": null,
            "grid_auto_flow": null,
            "grid_area": null,
            "grid_template_columns": null,
            "flex": null,
            "_model_name": "LayoutModel",
            "justify_items": null,
            "grid_row": null,
            "max_height": null,
            "align_content": null,
            "visibility": null,
            "align_self": null,
            "height": null,
            "min_height": null,
            "padding": null,
            "grid_auto_rows": null,
            "grid_gap": null,
            "max_width": null,
            "order": null,
            "_view_module_version": "1.2.0",
            "grid_template_areas": null,
            "object_position": null,
            "object_fit": null,
            "grid_auto_columns": null,
            "margin": null,
            "display": null,
            "left": null
          }
        },
        "5d0a0bb459c84b5885fa2ff774f5747f": {
          "model_module": "@jupyter-widgets/controls",
          "model_name": "FloatProgressModel",
          "state": {
            "_view_name": "ProgressView",
            "style": "IPY_MODEL_46639f0e567542fba6f80a44932b9a01",
            "_dom_classes": [],
            "description": "100%",
            "_model_name": "FloatProgressModel",
            "bar_style": "success",
            "max": 2,
            "_view_module": "@jupyter-widgets/controls",
            "_model_module_version": "1.5.0",
            "value": 2,
            "_view_count": null,
            "_view_module_version": "1.5.0",
            "orientation": "horizontal",
            "min": 0,
            "description_tooltip": null,
            "_model_module": "@jupyter-widgets/controls",
            "layout": "IPY_MODEL_ae28ce6157f546069bc3833ce7f72622"
          }
        },
        "79a07fa37aee4d179170e11db941aa16": {
          "model_module": "@jupyter-widgets/controls",
          "model_name": "HTMLModel",
          "state": {
            "_view_name": "HTMLView",
            "style": "IPY_MODEL_05a750eae845438a9a42b8f66c4b1c3a",
            "_dom_classes": [],
            "description": "",
            "_model_name": "HTMLModel",
            "placeholder": "​",
            "_view_module": "@jupyter-widgets/controls",
            "_model_module_version": "1.5.0",
            "value": " 2/2 [00:02&lt;00:00,  1.37s/it]",
            "_view_count": null,
            "_view_module_version": "1.5.0",
            "description_tooltip": null,
            "_model_module": "@jupyter-widgets/controls",
            "layout": "IPY_MODEL_c5f18dcb28564ffdac6d2e6cbc4f9b67"
          }
        },
        "46639f0e567542fba6f80a44932b9a01": {
          "model_module": "@jupyter-widgets/controls",
          "model_name": "ProgressStyleModel",
          "state": {
            "_view_name": "StyleView",
            "_model_name": "ProgressStyleModel",
            "description_width": "initial",
            "_view_module": "@jupyter-widgets/base",
            "_model_module_version": "1.5.0",
            "_view_count": null,
            "_view_module_version": "1.2.0",
            "bar_color": null,
            "_model_module": "@jupyter-widgets/controls"
          }
        },
        "ae28ce6157f546069bc3833ce7f72622": {
          "model_module": "@jupyter-widgets/base",
          "model_name": "LayoutModel",
          "state": {
            "_view_name": "LayoutView",
            "grid_template_rows": null,
            "right": null,
            "justify_content": null,
            "_view_module": "@jupyter-widgets/base",
            "overflow": null,
            "_model_module_version": "1.2.0",
            "_view_count": null,
            "flex_flow": null,
            "width": null,
            "min_width": null,
            "border": null,
            "align_items": null,
            "bottom": null,
            "_model_module": "@jupyter-widgets/base",
            "top": null,
            "grid_column": null,
            "overflow_y": null,
            "overflow_x": null,
            "grid_auto_flow": null,
            "grid_area": null,
            "grid_template_columns": null,
            "flex": null,
            "_model_name": "LayoutModel",
            "justify_items": null,
            "grid_row": null,
            "max_height": null,
            "align_content": null,
            "visibility": null,
            "align_self": null,
            "height": null,
            "min_height": null,
            "padding": null,
            "grid_auto_rows": null,
            "grid_gap": null,
            "max_width": null,
            "order": null,
            "_view_module_version": "1.2.0",
            "grid_template_areas": null,
            "object_position": null,
            "object_fit": null,
            "grid_auto_columns": null,
            "margin": null,
            "display": null,
            "left": null
          }
        },
        "05a750eae845438a9a42b8f66c4b1c3a": {
          "model_module": "@jupyter-widgets/controls",
          "model_name": "DescriptionStyleModel",
          "state": {
            "_view_name": "StyleView",
            "_model_name": "DescriptionStyleModel",
            "description_width": "",
            "_view_module": "@jupyter-widgets/base",
            "_model_module_version": "1.5.0",
            "_view_count": null,
            "_view_module_version": "1.2.0",
            "_model_module": "@jupyter-widgets/controls"
          }
        },
        "c5f18dcb28564ffdac6d2e6cbc4f9b67": {
          "model_module": "@jupyter-widgets/base",
          "model_name": "LayoutModel",
          "state": {
            "_view_name": "LayoutView",
            "grid_template_rows": null,
            "right": null,
            "justify_content": null,
            "_view_module": "@jupyter-widgets/base",
            "overflow": null,
            "_model_module_version": "1.2.0",
            "_view_count": null,
            "flex_flow": null,
            "width": null,
            "min_width": null,
            "border": null,
            "align_items": null,
            "bottom": null,
            "_model_module": "@jupyter-widgets/base",
            "top": null,
            "grid_column": null,
            "overflow_y": null,
            "overflow_x": null,
            "grid_auto_flow": null,
            "grid_area": null,
            "grid_template_columns": null,
            "flex": null,
            "_model_name": "LayoutModel",
            "justify_items": null,
            "grid_row": null,
            "max_height": null,
            "align_content": null,
            "visibility": null,
            "align_self": null,
            "height": null,
            "min_height": null,
            "padding": null,
            "grid_auto_rows": null,
            "grid_gap": null,
            "max_width": null,
            "order": null,
            "_view_module_version": "1.2.0",
            "grid_template_areas": null,
            "object_position": null,
            "object_fit": null,
            "grid_auto_columns": null,
            "margin": null,
            "display": null,
            "left": null
          }
        }
      }
    },
    "accelerator": "GPU"
  },
  "cells": [
    {
      "cell_type": "markdown",
      "metadata": {
        "id": "view-in-github",
        "colab_type": "text"
      },
      "source": [
        "<a href=\"https://colab.research.google.com/github/ShinyRyo/100knocks-preprocess/blob/master/U_Net2021_4_20_gpu.ipynb\" target=\"_parent\"><img src=\"https://colab.research.google.com/assets/colab-badge.svg\" alt=\"Open In Colab\"/></a>"
      ]
    },
    {
      "cell_type": "code",
      "metadata": {
        "colab": {
          "base_uri": "https://localhost:8080/"
        },
        "id": "fWpKT3utu2kZ",
        "outputId": "f74fd29d-cdc9-4e79-dc34-651d3d799164"
      },
      "source": [
        "from google.colab import drive\n",
        "drive.mount('/content/drive')"
      ],
      "execution_count": null,
      "outputs": [
        {
          "output_type": "stream",
          "text": [
            "Drive already mounted at /content/drive; to attempt to forcibly remount, call drive.mount(\"/content/drive\", force_remount=True).\n"
          ],
          "name": "stdout"
        }
      ]
    },
    {
      "cell_type": "markdown",
      "metadata": {
        "id": "_2WwaxYIB6FV"
      },
      "source": [
        "#データの取得"
      ]
    },
    {
      "cell_type": "code",
      "metadata": {
        "colab": {
          "base_uri": "https://localhost:8080/"
        },
        "id": "ac6qHBXsIb-k",
        "outputId": "a46445bd-3358-4375-ee4d-e2ef91aa863e"
      },
      "source": [
        "#zipファイル群をGoogle Drive からひっぱってくるやつ\n",
        "from googleapiclient.discovery import build\n",
        "import io, os\n",
        "from googleapiclient.http import MediaIoBaseDownload\n",
        "from google.colab import auth\n",
        " \n",
        "auth.authenticate_user()\n",
        " \n",
        "drive_service = build('drive', 'v3')\n",
        "for i in [\"train.zip\", \"test.zip\", \"train_y.zip\"]:\n",
        "    results = drive_service.files().list(\n",
        "            q=f\"name = '{i}'\", fields=\"files(id)\").execute()\n",
        "    signate_api_key = results.get('files', [])\n",
        "    \n",
        "    filename = f\"/content/input/{i}\"\n",
        "    os.makedirs(os.path.dirname(filename), exist_ok=True)\n",
        "    \n",
        "    request = drive_service.files().get_media(fileId=signate_api_key[0]['id'])\n",
        "    fh = io.FileIO(filename, 'wb')\n",
        "    downloader = MediaIoBaseDownload(fh, request)\n",
        "    done = False\n",
        "    while done is False:\n",
        "        status, done = downloader.next_chunk()\n",
        "        print(\"Download %d%%.\" % int(status.progress() * 100))\n",
        "    os.chmod(filename, 600)"
      ],
      "execution_count": null,
      "outputs": [
        {
          "output_type": "stream",
          "text": [
            "Download 54%.\n",
            "Download 100%.\n",
            "Download 100%.\n",
            "Download 100%.\n"
          ],
          "name": "stdout"
        }
      ]
    },
    {
      "cell_type": "code",
      "metadata": {
        "colab": {
          "base_uri": "https://localhost:8080/"
        },
        "id": "C8StN7N8Ib-m",
        "outputId": "639f071d-a05f-4bd0-e562-1906aa9bd2d3"
      },
      "source": [
        "# !pip install -q signate"
      ],
      "execution_count": null,
      "outputs": [
        {
          "output_type": "stream",
          "text": [
            "\u001b[?25l\r\u001b[K     |██▏                             | 10kB 19.5MB/s eta 0:00:01\r\u001b[K     |████▎                           | 20kB 26.1MB/s eta 0:00:01\r\u001b[K     |██████▍                         | 30kB 29.1MB/s eta 0:00:01\r\u001b[K     |████████▌                       | 40kB 20.2MB/s eta 0:00:01\r\u001b[K     |██████████▊                     | 51kB 12.8MB/s eta 0:00:01\r\u001b[K     |████████████▉                   | 61kB 13.9MB/s eta 0:00:01\r\u001b[K     |███████████████                 | 71kB 12.6MB/s eta 0:00:01\r\u001b[K     |█████████████████               | 81kB 12.4MB/s eta 0:00:01\r\u001b[K     |███████████████████▎            | 92kB 11.8MB/s eta 0:00:01\r\u001b[K     |█████████████████████▍          | 102kB 12.0MB/s eta 0:00:01\r\u001b[K     |███████████████████████▌        | 112kB 12.0MB/s eta 0:00:01\r\u001b[K     |█████████████████████████▋      | 122kB 12.0MB/s eta 0:00:01\r\u001b[K     |███████████████████████████▉    | 133kB 12.0MB/s eta 0:00:01\r\u001b[K     |██████████████████████████████  | 143kB 12.0MB/s eta 0:00:01\r\u001b[K     |████████████████████████████████| 153kB 12.0MB/s \n",
            "\u001b[?25h  Building wheel for wget (setup.py) ... \u001b[?25l\u001b[?25hdone\n",
            "\u001b[31mERROR: requests 2.23.0 has requirement urllib3!=1.25.0,!=1.25.1,<1.26,>=1.21.1, but you'll have urllib3 1.26.4 which is incompatible.\u001b[0m\n",
            "\u001b[31mERROR: datascience 0.10.6 has requirement folium==0.2.1, but you'll have folium 0.8.3 which is incompatible.\u001b[0m\n"
          ],
          "name": "stdout"
        }
      ]
    },
    {
      "cell_type": "code",
      "metadata": {
        "colab": {
          "base_uri": "https://localhost:8080/"
        },
        "id": "-Fs45-PEIb-m",
        "outputId": "0db389ad-f814-4d5c-e485-607368e84f4d"
      },
      "source": [
        "# !mkdir input\n",
        "# !signate download --competition-id=444 --path='input'\n",
        "#--competition-id=269 --path='move/'"
      ],
      "execution_count": null,
      "outputs": [
        {
          "output_type": "stream",
          "text": [
            "readme.md\n",
            "\n",
            "evaluation_code.zip\n",
            "\n",
            "sample_submit.json\n",
            "\n",
            "train_annotations.zip\n",
            "\n",
            "test_images.zip\n",
            "\n",
            "train_images.zip\n",
            "\n",
            "\u001b[32m\n",
            "Download completed.\u001b[0m\n"
          ],
          "name": "stdout"
        }
      ]
    },
    {
      "cell_type": "code",
      "metadata": {
        "colab": {
          "base_uri": "https://localhost:8080/"
        },
        "id": "0Wkd5hNbIb-m",
        "outputId": "45eb941a-45aa-45df-9d74-0ea4eb127611"
      },
      "source": [
        "import os\n",
        "path=\"./input\"\n",
        "zip_files=os.listdir(path)\n",
        "zip_files"
      ],
      "execution_count": null,
      "outputs": [
        {
          "output_type": "execute_result",
          "data": {
            "text/plain": [
              "['test.zip', 'train_y.zip', 'train.zip']"
            ]
          },
          "metadata": {
            "tags": []
          },
          "execution_count": 3
        }
      ]
    },
    {
      "cell_type": "code",
      "metadata": {
        "id": "Va4vTJCOIb-n"
      },
      "source": [
        "import zipfile\n",
        "for i in zip_files:\n",
        "    if \".zip\" in i:\n",
        "        with zipfile.ZipFile(\"input/\"+i) as existing_zip:\n",
        "            existing_zip.extractall('input/'+i.split('.')[0])\n",
        "    else:\n",
        "        continue"
      ],
      "execution_count": null,
      "outputs": []
    },
    {
      "cell_type": "markdown",
      "metadata": {
        "id": "Mgo6vF14sYZr"
      },
      "source": [
        "#code"
      ]
    },
    {
      "cell_type": "code",
      "metadata": {
        "id": "7zz3SHVQVN2j"
      },
      "source": [
        "import numpy as np\n",
        "import json\n",
        "import cv2\n",
        "from PIL import Image\n",
        "from scipy.stats import rankdata\n",
        "import matplotlib.pyplot as plt\n",
        "from tqdm.auto import tqdm"
      ],
      "execution_count": null,
      "outputs": []
    },
    {
      "cell_type": "markdown",
      "metadata": {
        "id": "us5tPM-DQJGh"
      },
      "source": [
        "参考サイト\n",
        "\n",
        "https://github.com/lsh1994/keras-segmentation/blob/master/Models/UNet.py\n"
      ]
    },
    {
      "cell_type": "code",
      "metadata": {
        "colab": {
          "base_uri": "https://localhost:8080/",
          "height": 427,
          "referenced_widgets": [
            "5b09eeecb19843d78a55abdddd727151",
            "fb588e24306442088b73604afe25e81a",
            "95b7a2628111414fa460d106e97792c9",
            "b8fbf5b777544cc59c8ec8ced97d1b30",
            "f1e6cac624ee4683b3c51e78b4849ee2",
            "8a8bb22b1a89402aa93188dd7b181ac1",
            "8ca497e3d9af416caef0dec2ab8efde7",
            "a856b6d4116b426191e9512b330f07fe"
          ]
        },
        "id": "5oHmxDAO8Vgx",
        "outputId": "76e62e7e-7c84-410d-8812-79b66558c7a8"
      },
      "source": [
        "size=512\n",
        "data_shape = size * size\n",
        "train_num = 2000#2000\n",
        "val_num_s = 2000#2000\n",
        "val_num_e = 2258#2258\n",
        "\n",
        "def normalized(rgb):\n",
        "    return rgb / 255.\n",
        "\n",
        "def one_hot_it(labels):\n",
        "    x = np.zeros([size,size,4], dtype=np.uint8)\n",
        "    img = labels.convert(\"P\")\n",
        "    data = img.getdata()\n",
        "    data = list(map(int, data))\n",
        "    np.array(data).reshape(size, size).tolist()\n",
        "    rank = rankdata(data, method='dense')\n",
        "    rank_labels = np.array(rank - 1).reshape(size, size)\n",
        "    for i in range(size):\n",
        "        for j in range(size):\n",
        "          x[i,j,rank_labels[i][j]]=1\n",
        "    return x\n",
        "\n",
        "def load_data_train():\n",
        "    data = []\n",
        "    label = []\n",
        "    for num in tqdm(range(train_num)):\n",
        "      img  = cv2.imread('/content/input/train/train_' + str(num).zfill(4) + '.png')\n",
        "      data.append(normalized(img))\n",
        "\n",
        "      im_rgb  = Image.open('/content/input/train_y/train_' + str(num).zfill(4) + '.png')\n",
        "      label.append(one_hot_it(im_rgb))\n",
        "    return np.array(data, dtype=np.float32), np.array(label, dtype=np.int8)\n",
        "\n",
        "def load_data_val():\n",
        "    data = []\n",
        "    label = []\n",
        "    for num in tqdm(range(val_num_s,val_num_e)):\n",
        "      img  = cv2.imread('/content/input/train/train_' + str(num).zfill(4) + '.png')\n",
        "      data.append(normalized(img))\n",
        "\n",
        "      im_rgb  = Image.open('/content/input/train_y/train_' + str(num).zfill(4) + '.png')\n",
        "      label.append(one_hot_it(im_rgb))\n",
        "    return np.array(data, dtype=np.float32), np.array(label, dtype=np.int8)\n",
        "\n",
        "train_data, train_label = load_data_train()\n",
        "train_label = np.reshape(train_label,(train_num,data_shape,4))\n",
        "print('train end')\n",
        "val_data, val_label = load_data_val()\n",
        "val_label = np.reshape(val_label,((val_num_e - val_num_s),data_shape,4))\n",
        "print('val end')"
      ],
      "execution_count": null,
      "outputs": [
        {
          "output_type": "display_data",
          "data": {
            "application/vnd.jupyter.widget-view+json": {
              "model_id": "5b09eeecb19843d78a55abdddd727151",
              "version_minor": 0,
              "version_major": 2
            },
            "text/plain": [
              "HBox(children=(FloatProgress(value=0.0, max=2000.0), HTML(value='')))"
            ]
          },
          "metadata": {
            "tags": []
          }
        },
        {
          "output_type": "error",
          "ename": "KeyboardInterrupt",
          "evalue": "ignored",
          "traceback": [
            "\u001b[0;31m---------------------------------------------------------------------------\u001b[0m",
            "\u001b[0;31mKeyboardInterrupt\u001b[0m                         Traceback (most recent call last)",
            "\u001b[0;32m<ipython-input-6-795bd85e9e14>\u001b[0m in \u001b[0;36m<module>\u001b[0;34m()\u001b[0m\n\u001b[1;32m     43\u001b[0m     \u001b[0;32mreturn\u001b[0m \u001b[0mnp\u001b[0m\u001b[0;34m.\u001b[0m\u001b[0marray\u001b[0m\u001b[0;34m(\u001b[0m\u001b[0mdata\u001b[0m\u001b[0;34m,\u001b[0m \u001b[0mdtype\u001b[0m\u001b[0;34m=\u001b[0m\u001b[0mnp\u001b[0m\u001b[0;34m.\u001b[0m\u001b[0mfloat32\u001b[0m\u001b[0;34m)\u001b[0m\u001b[0;34m,\u001b[0m \u001b[0mnp\u001b[0m\u001b[0;34m.\u001b[0m\u001b[0marray\u001b[0m\u001b[0;34m(\u001b[0m\u001b[0mlabel\u001b[0m\u001b[0;34m,\u001b[0m \u001b[0mdtype\u001b[0m\u001b[0;34m=\u001b[0m\u001b[0mnp\u001b[0m\u001b[0;34m.\u001b[0m\u001b[0mint8\u001b[0m\u001b[0;34m)\u001b[0m\u001b[0;34m\u001b[0m\u001b[0;34m\u001b[0m\u001b[0m\n\u001b[1;32m     44\u001b[0m \u001b[0;34m\u001b[0m\u001b[0m\n\u001b[0;32m---> 45\u001b[0;31m \u001b[0mtrain_data\u001b[0m\u001b[0;34m,\u001b[0m \u001b[0mtrain_label\u001b[0m \u001b[0;34m=\u001b[0m \u001b[0mload_data_train\u001b[0m\u001b[0;34m(\u001b[0m\u001b[0;34m)\u001b[0m\u001b[0;34m\u001b[0m\u001b[0;34m\u001b[0m\u001b[0m\n\u001b[0m\u001b[1;32m     46\u001b[0m \u001b[0mtrain_label\u001b[0m \u001b[0;34m=\u001b[0m \u001b[0mnp\u001b[0m\u001b[0;34m.\u001b[0m\u001b[0mreshape\u001b[0m\u001b[0;34m(\u001b[0m\u001b[0mtrain_label\u001b[0m\u001b[0;34m,\u001b[0m\u001b[0;34m(\u001b[0m\u001b[0mtrain_num\u001b[0m\u001b[0;34m,\u001b[0m\u001b[0mdata_shape\u001b[0m\u001b[0;34m,\u001b[0m\u001b[0;36m4\u001b[0m\u001b[0;34m)\u001b[0m\u001b[0;34m)\u001b[0m\u001b[0;34m\u001b[0m\u001b[0;34m\u001b[0m\u001b[0m\n\u001b[1;32m     47\u001b[0m \u001b[0mprint\u001b[0m\u001b[0;34m(\u001b[0m\u001b[0;34m'train end'\u001b[0m\u001b[0;34m)\u001b[0m\u001b[0;34m\u001b[0m\u001b[0;34m\u001b[0m\u001b[0m\n",
            "\u001b[0;32m<ipython-input-6-795bd85e9e14>\u001b[0m in \u001b[0;36mload_data_train\u001b[0;34m()\u001b[0m\n\u001b[1;32m     29\u001b[0m \u001b[0;34m\u001b[0m\u001b[0m\n\u001b[1;32m     30\u001b[0m       \u001b[0mim_rgb\u001b[0m  \u001b[0;34m=\u001b[0m \u001b[0mImage\u001b[0m\u001b[0;34m.\u001b[0m\u001b[0mopen\u001b[0m\u001b[0;34m(\u001b[0m\u001b[0;34m'/content/input/train_y/train_'\u001b[0m \u001b[0;34m+\u001b[0m \u001b[0mstr\u001b[0m\u001b[0;34m(\u001b[0m\u001b[0mnum\u001b[0m\u001b[0;34m)\u001b[0m\u001b[0;34m.\u001b[0m\u001b[0mzfill\u001b[0m\u001b[0;34m(\u001b[0m\u001b[0;36m4\u001b[0m\u001b[0;34m)\u001b[0m \u001b[0;34m+\u001b[0m \u001b[0;34m'.png'\u001b[0m\u001b[0;34m)\u001b[0m\u001b[0;34m\u001b[0m\u001b[0;34m\u001b[0m\u001b[0m\n\u001b[0;32m---> 31\u001b[0;31m       \u001b[0mlabel\u001b[0m\u001b[0;34m.\u001b[0m\u001b[0mappend\u001b[0m\u001b[0;34m(\u001b[0m\u001b[0mone_hot_it\u001b[0m\u001b[0;34m(\u001b[0m\u001b[0mim_rgb\u001b[0m\u001b[0;34m)\u001b[0m\u001b[0;34m)\u001b[0m\u001b[0;34m\u001b[0m\u001b[0;34m\u001b[0m\u001b[0m\n\u001b[0m\u001b[1;32m     32\u001b[0m     \u001b[0;32mreturn\u001b[0m \u001b[0mnp\u001b[0m\u001b[0;34m.\u001b[0m\u001b[0marray\u001b[0m\u001b[0;34m(\u001b[0m\u001b[0mdata\u001b[0m\u001b[0;34m,\u001b[0m \u001b[0mdtype\u001b[0m\u001b[0;34m=\u001b[0m\u001b[0mnp\u001b[0m\u001b[0;34m.\u001b[0m\u001b[0mfloat32\u001b[0m\u001b[0;34m)\u001b[0m\u001b[0;34m,\u001b[0m \u001b[0mnp\u001b[0m\u001b[0;34m.\u001b[0m\u001b[0marray\u001b[0m\u001b[0;34m(\u001b[0m\u001b[0mlabel\u001b[0m\u001b[0;34m,\u001b[0m \u001b[0mdtype\u001b[0m\u001b[0;34m=\u001b[0m\u001b[0mnp\u001b[0m\u001b[0;34m.\u001b[0m\u001b[0mint8\u001b[0m\u001b[0;34m)\u001b[0m\u001b[0;34m\u001b[0m\u001b[0;34m\u001b[0m\u001b[0m\n\u001b[1;32m     33\u001b[0m \u001b[0;34m\u001b[0m\u001b[0m\n",
            "\u001b[0;32m<ipython-input-6-795bd85e9e14>\u001b[0m in \u001b[0;36mone_hot_it\u001b[0;34m(labels)\u001b[0m\n\u001b[1;32m     12\u001b[0m     \u001b[0mimg\u001b[0m \u001b[0;34m=\u001b[0m \u001b[0mlabels\u001b[0m\u001b[0;34m.\u001b[0m\u001b[0mconvert\u001b[0m\u001b[0;34m(\u001b[0m\u001b[0;34m\"P\"\u001b[0m\u001b[0;34m)\u001b[0m\u001b[0;34m\u001b[0m\u001b[0;34m\u001b[0m\u001b[0m\n\u001b[1;32m     13\u001b[0m     \u001b[0mdata\u001b[0m \u001b[0;34m=\u001b[0m \u001b[0mimg\u001b[0m\u001b[0;34m.\u001b[0m\u001b[0mgetdata\u001b[0m\u001b[0;34m(\u001b[0m\u001b[0;34m)\u001b[0m\u001b[0;34m\u001b[0m\u001b[0;34m\u001b[0m\u001b[0m\n\u001b[0;32m---> 14\u001b[0;31m     \u001b[0mdata\u001b[0m \u001b[0;34m=\u001b[0m \u001b[0mlist\u001b[0m\u001b[0;34m(\u001b[0m\u001b[0mmap\u001b[0m\u001b[0;34m(\u001b[0m\u001b[0mint\u001b[0m\u001b[0;34m,\u001b[0m \u001b[0mdata\u001b[0m\u001b[0;34m)\u001b[0m\u001b[0;34m)\u001b[0m\u001b[0;34m\u001b[0m\u001b[0;34m\u001b[0m\u001b[0m\n\u001b[0m\u001b[1;32m     15\u001b[0m     \u001b[0mnp\u001b[0m\u001b[0;34m.\u001b[0m\u001b[0marray\u001b[0m\u001b[0;34m(\u001b[0m\u001b[0mdata\u001b[0m\u001b[0;34m)\u001b[0m\u001b[0;34m.\u001b[0m\u001b[0mreshape\u001b[0m\u001b[0;34m(\u001b[0m\u001b[0msize\u001b[0m\u001b[0;34m,\u001b[0m \u001b[0msize\u001b[0m\u001b[0;34m)\u001b[0m\u001b[0;34m.\u001b[0m\u001b[0mtolist\u001b[0m\u001b[0;34m(\u001b[0m\u001b[0;34m)\u001b[0m\u001b[0;34m\u001b[0m\u001b[0;34m\u001b[0m\u001b[0m\n\u001b[1;32m     16\u001b[0m     \u001b[0mrank\u001b[0m \u001b[0;34m=\u001b[0m \u001b[0mrankdata\u001b[0m\u001b[0;34m(\u001b[0m\u001b[0mdata\u001b[0m\u001b[0;34m,\u001b[0m \u001b[0mmethod\u001b[0m\u001b[0;34m=\u001b[0m\u001b[0;34m'dense'\u001b[0m\u001b[0;34m)\u001b[0m\u001b[0;34m\u001b[0m\u001b[0;34m\u001b[0m\u001b[0m\n",
            "\u001b[0;31mKeyboardInterrupt\u001b[0m: "
          ]
        }
      ]
    },
    {
      "cell_type": "code",
      "metadata": {
        "id": "nVSntgUTh0Eh"
      },
      "source": [
        "import tensorflow as tf\n",
        "from tensorflow.keras.layers import Activation\n",
        "from tensorflow.keras.utils import get_custom_objects\n",
        "\n",
        "class Mish(Activation):\n",
        "    '''\n",
        "    Mish Activation Function.\n",
        "    .. math::\n",
        "        mish(x) = x * tanh(softplus(x)) = x * tanh(ln(1 + e^{x}))\n",
        "    Shape:\n",
        "        - Input: Arbitrary. Use the keyword argument `input_shape`\n",
        "        (tuple of integers, does not include the samples axis)\n",
        "        when using this layer as the first layer in a model.\n",
        "        - Output: Same shape as the input.\n",
        "    Examples:\n",
        "        >>> X = Activation('Mish', name=\"conv1_act\")(X_input)\n",
        "    '''\n",
        "\n",
        "    def __init__(self, activation, **kwargs):\n",
        "        super(Mish, self).__init__(activation, **kwargs)\n",
        "        self.__name__ = 'Mish'\n",
        "\n",
        "\n",
        "def mish(inputs):\n",
        "    return inputs * tf.math.tanh(tf.math.softplus(inputs))"
      ],
      "execution_count": null,
      "outputs": []
    },
    {
      "cell_type": "code",
      "metadata": {
        "id": "sPz2K8cj4KrZ"
      },
      "source": [
        "\n",
        "from keras import Model, layers\n",
        "from keras.applications import vgg16\n",
        "from keras.layers import Input, Conv2D, BatchNormalization, Activation, Reshape, MaxPool2D, concatenate, UpSampling2D\n",
        "\n",
        "\n",
        "def UNet(nClasses, input_height, input_width):\n",
        "    #assert input_height % 32 == 0\n",
        "    #assert input_width % 32 == 0\n",
        "\n",
        "    img_input = Input(shape=(input_height, input_width, 3))\n",
        "\n",
        "    vgg_streamlined = vgg16.VGG16(\n",
        "        include_top=False,\n",
        "        weights='imagenet', input_tensor=img_input)\n",
        "    #assert isinstance(vgg_streamlined, Model)\n",
        "\n",
        "    o = UpSampling2D((2, 2))(vgg_streamlined.output)\n",
        "    o = concatenate([vgg_streamlined.get_layer(\n",
        "        name=\"block4_pool\").output, o], axis=-1)\n",
        "    o = Conv2D(512, (3, 3), padding=\"same\")(o)\n",
        "    o = BatchNormalization()(o)\n",
        "\n",
        "    o = UpSampling2D((2, 2))(o)\n",
        "    o = concatenate([vgg_streamlined.get_layer(\n",
        "        name=\"block3_pool\").output, o], axis=-1)\n",
        "    o = Conv2D(256, (3, 3), padding=\"same\")(o)\n",
        "    o = BatchNormalization()(o)\n",
        "\n",
        "    o = UpSampling2D((2, 2))(o)\n",
        "    o = concatenate([vgg_streamlined.get_layer(\n",
        "        name=\"block2_pool\").output, o], axis=-1)\n",
        "    o = Conv2D(128, (3, 3), padding=\"same\")(o)\n",
        "    o = BatchNormalization()(o)\n",
        "\n",
        "    o = UpSampling2D((2, 2))(o)\n",
        "    o = concatenate([vgg_streamlined.get_layer(\n",
        "        name=\"block1_pool\").output, o], axis=-1)\n",
        "    o = Conv2D(64, (3, 3), padding=\"same\")(o)\n",
        "    o = BatchNormalization()(o)\n",
        "\n",
        "    o = UpSampling2D((2, 2))(o)\n",
        "    o = Conv2D(64, (3, 3), padding=\"same\")(o)\n",
        "    o = BatchNormalization()(o)\n",
        "\n",
        "    o = Conv2D(nClasses, (1, 1), padding=\"same\")(o)\n",
        "    o = BatchNormalization()(o)\n",
        "    o = Activation(\"relu\")(o)\n",
        "\n",
        "    o = Reshape((-1, nClasses))(o)\n",
        "    o = Activation(\"softmax\")(o)\n",
        "\n",
        "    model = Model(inputs=img_input, outputs=o)\n",
        "    return model\n"
      ],
      "execution_count": null,
      "outputs": []
    },
    {
      "cell_type": "code",
      "metadata": {
        "id": "tzux6IxOWVkE"
      },
      "source": [
        "import tensorflow as tf \n",
        "from keras import optimizers \n",
        "tf.random.set_seed(0) \n",
        "np.random.seed(0)\n",
        "\n",
        "model = UNet(4, 512, 512)\n",
        "\n",
        "print(\"Compiling model...\")\n",
        "opt = optimizers.Adadelta(lr=0.1, rho=0.95, epsilon=None, decay=1e-5)\n",
        "model.compile(loss=\"categorical_crossentropy\", optimizer=opt, metrics=[\"accuracy\"])\n",
        "print(\"done.\")\n",
        "\n",
        "model.summary()"
      ],
      "execution_count": null,
      "outputs": []
    },
    {
      "cell_type": "code",
      "metadata": {
        "id": "JW9GyUaUuZkC"
      },
      "source": [
        "from keras.callbacks import ModelCheckpoint\n",
        "from tensorflow.keras.callbacks import EarlyStopping\n",
        "\n",
        "# Parameter\n",
        "nb_epoch = 1000\n",
        "batch_size = 6\n",
        "\n",
        "# checkpoint\n",
        "print(\"Deifining callbacks...\")\n",
        "filepath = \"/content/input/weights/unet_weights.best.hdf5\"\n",
        "checkpoint = ModelCheckpoint(filepath, monitor='val_loss', verbose=1, save_best_only=True, mode='min')\n",
        "#checkpoint = ModelCheckpoint(filepath, monitor='val_accuracy', verbose=1, save_best_only=True, mode='max')\n",
        "es_cb = EarlyStopping(monitor='val_loss', patience=10, verbose=0, mode='auto')\n",
        "\n",
        "callbacks_list = [checkpoint,es_cb]\n",
        "print(\"done.\")\n",
        "\n",
        "# Fit the model\n",
        "print(\"Fitting model...\")\n",
        "hist = model.fit(train_data, train_label, callbacks=callbacks_list, batch_size=batch_size, epochs=nb_epoch,\n",
        "                    verbose=2, validation_data=(val_data, val_label), shuffle=True) # validation_split=0.33\n",
        "print(\"done.\")\n",
        "\n",
        "model.save('/content/input/models/unet_model.hdf5')\n",
        "print('end')"
      ],
      "execution_count": null,
      "outputs": []
    },
    {
      "cell_type": "code",
      "metadata": {
        "id": "ZU5oueFfa6Cj"
      },
      "source": [
        "def normalized(rgb):\n",
        "    return rgb / 255.\n",
        "\n",
        "def load_data_test():\n",
        "    data = []\n",
        "    label = []\n",
        "    for num in tqdm(range(2)):\n",
        "      img  = cv2.imread('/content/input/test/test_' + str(num).zfill(3) + '.png')\n",
        "      data.append(normalized(img))\n",
        "    return np.array(data, dtype=np.float32)\n",
        "\n",
        "test_data = load_data_test()"
      ],
      "execution_count": null,
      "outputs": []
    },
    {
      "cell_type": "code",
      "metadata": {
        "colab": {
          "base_uri": "https://localhost:8080/"
        },
        "id": "cOHnqIvCqglW",
        "outputId": "ddcae864-5d35-4530-d19a-0ea73d688504"
      },
      "source": [
        "#zipファイル群をGoogle Drive からひっぱってくるやつ\n",
        "from googleapiclient.discovery import build\n",
        "import io, os\n",
        "from googleapiclient.http import MediaIoBaseDownload\n",
        "from google.colab import auth\n",
        " \n",
        "auth.authenticate_user()\n",
        " \n",
        "drive_service = build('drive', 'v3')\n",
        "for i in [\"unet_model.hdf5\", \"unet_weights.best.hdf5\"]:\n",
        "    results = drive_service.files().list(\n",
        "            q=f\"name = '{i}'\", fields=\"files(id)\").execute()\n",
        "    signate_api_key = results.get('files', [])\n",
        "    \n",
        "    filename = f\"/content/input/{i}\"\n",
        "    os.makedirs(os.path.dirname(filename), exist_ok=True)\n",
        "    \n",
        "    request = drive_service.files().get_media(fileId=signate_api_key[0]['id'])\n",
        "    fh = io.FileIO(filename, 'wb')\n",
        "    downloader = MediaIoBaseDownload(fh, request)\n",
        "    done = False\n",
        "    while done is False:\n",
        "        status, done = downloader.next_chunk()\n",
        "        print(\"Download %d%%.\" % int(status.progress() * 100))\n",
        "    os.chmod(filename, 600)"
      ],
      "execution_count": null,
      "outputs": [
        {
          "output_type": "stream",
          "text": [
            "Download 40%.\n",
            "Download 80%.\n",
            "Download 100%.\n",
            "Download 40%.\n",
            "Download 80%.\n",
            "Download 100%.\n"
          ],
          "name": "stdout"
        }
      ]
    },
    {
      "cell_type": "code",
      "metadata": {
        "id": "8drBZ834xX8h"
      },
      "source": [
        "from keras.models import load_model\n",
        "print('Loading model and weights...')\n",
        "model = load_model('/content/input/models/unet_model.hdf5')\n",
        "model.load_weights('/content/input/weights/unet_weights.best.hdf5')\n",
        "print('done')\n",
        "output = model.predict(test_data)\n",
        "print('end')"
      ],
      "execution_count": null,
      "outputs": []
    },
    {
      "cell_type": "code",
      "metadata": {
        "colab": {
          "base_uri": "https://localhost:8080/",
          "height": 67,
          "referenced_widgets": [
            "21b23805932a42ba9af2d68643a33926",
            "0961f351fa9a4971a702530350b486c0",
            "5d0a0bb459c84b5885fa2ff774f5747f",
            "79a07fa37aee4d179170e11db941aa16",
            "46639f0e567542fba6f80a44932b9a01",
            "ae28ce6157f546069bc3833ce7f72622",
            "05a750eae845438a9a42b8f66c4b1c3a",
            "c5f18dcb28564ffdac6d2e6cbc4f9b67"
          ]
        },
        "id": "ro2IDfHHroDi",
        "outputId": "7c595c61-556b-4caf-fc90-f5abc2324583"
      },
      "source": [
        "def normalized(rgb):\n",
        "    return rgb / 255.\n",
        "\n",
        "def load_data_test():\n",
        "    data = []\n",
        "    label = []\n",
        "    for num in tqdm(range(2)):\n",
        "      img  = cv2.imread('/content/input/test/test_' + str(num).zfill(3) + '.png')\n",
        "      data.append(normalized(img))\n",
        "    return np.array(data, dtype=np.float32)\n",
        "\n",
        "test_data = load_data_test()"
      ],
      "execution_count": null,
      "outputs": [
        {
          "output_type": "display_data",
          "data": {
            "application/vnd.jupyter.widget-view+json": {
              "model_id": "21b23805932a42ba9af2d68643a33926",
              "version_minor": 0,
              "version_major": 2
            },
            "text/plain": [
              "HBox(children=(FloatProgress(value=0.0, max=2.0), HTML(value='')))"
            ]
          },
          "metadata": {
            "tags": []
          }
        },
        {
          "output_type": "stream",
          "text": [
            "\n"
          ],
          "name": "stdout"
        }
      ]
    },
    {
      "cell_type": "code",
      "metadata": {
        "id": "XLYdFS-0N_I1",
        "colab": {
          "base_uri": "https://localhost:8080/"
        },
        "outputId": "d2b66583-2e03-4864-da3f-5e053156629d"
      },
      "source": [
        "from keras.models import load_model\n",
        "print('Loading model and weights...')\n",
        "model = load_model('/content/input/unet_model.hdf5')\n",
        "model.load_weights('/content/input/unet_weights.best.hdf5')\n",
        "print('done')\n",
        "output = model.predict(test_data)\n",
        "print('end')"
      ],
      "execution_count": null,
      "outputs": [
        {
          "output_type": "stream",
          "text": [
            "Loading model and weights...\n",
            "done\n",
            "end\n"
          ],
          "name": "stdout"
        }
      ]
    },
    {
      "cell_type": "markdown",
      "metadata": {
        "id": "4PKDQEQnyr-G"
      },
      "source": [
        "#データのアップロード"
      ]
    },
    {
      "cell_type": "code",
      "metadata": {
        "id": "NSFXulvEhjdA"
      },
      "source": [
        "import google.colab\n",
        "import googleapiclient.discovery\n",
        "import googleapiclient.http"
      ],
      "execution_count": null,
      "outputs": []
    },
    {
      "cell_type": "code",
      "metadata": {
        "id": "IuxkkWfahZ3t"
      },
      "source": [
        "from google.colab import auth\n",
        "google.colab.auth.authenticate_user()\n",
        "drive_service = googleapiclient.discovery.build('drive', 'v3')"
      ],
      "execution_count": null,
      "outputs": []
    },
    {
      "cell_type": "code",
      "metadata": {
        "colab": {
          "base_uri": "https://localhost:8080/"
        },
        "id": "6bBBKpWEPyFg",
        "outputId": "7efb90b8-c770-4553-9523-f6abae3dccaa"
      },
      "source": [
        "for i in ['/content/input/models/unet_model.hdf5','/content/input/weights/unet_weights.best.hdf5']:\n",
        "    saving_filename=i\n",
        "    print(saving_filename.split('/')[-1])"
      ],
      "execution_count": null,
      "outputs": [
        {
          "output_type": "stream",
          "text": [
            "unet_model.hdf5\n",
            "unet_weights.best.hdf5\n"
          ],
          "name": "stdout"
        }
      ]
    },
    {
      "cell_type": "code",
      "metadata": {
        "id": "4Rg1tQR3iPx1"
      },
      "source": [
        "for i in ['/content/input/models/unet_model.hdf5','/content/input/weights/unet_weights.best.hdf5']:\n",
        "    saving_filename = i\n",
        "\n",
        "    file_metadata = {\n",
        "    'name': saving_filename,\n",
        "    'mimeType': 'application/octet-stream'\n",
        "    }\n",
        "    media = googleapiclient.http.MediaFileUpload(saving_filename, \n",
        "                            mimetype='application/octet-stream',\n",
        "                            resumable=True)\n",
        "    created = drive_service.files().create(body=file_metadata,\n",
        "                                        media_body=media,\n",
        "                                        fields='id').execute()"
      ],
      "execution_count": null,
      "outputs": []
    },
    {
      "cell_type": "code",
      "metadata": {
        "id": "4EUJr8t6xfmH",
        "colab": {
          "base_uri": "https://localhost:8080/",
          "height": 1000
        },
        "outputId": "c72bc104-6f54-4882-8dce-5c718133528c"
      },
      "source": [
        "size=512\n",
        "background = [0,0,0]\n",
        "LDK = [0,255,0]\n",
        "Corridor = [255,0,0]\n",
        "Bathroom = [0,0,255]\n",
        "label_colours = np.array([background,Bathroom,LDK,Corridor])\n",
        "def visualize(temp, plot=True):\n",
        "    r = temp.copy()\n",
        "    g = temp.copy()\n",
        "    b = temp.copy()\n",
        "    for l in range(len(label_colours)):\n",
        "        r[temp==l]=label_colours[l,0]\n",
        "        g[temp==l]=label_colours[l,1]\n",
        "        b[temp==l]=label_colours[l,2]\n",
        "    rgb = np.zeros((temp.shape[0], temp.shape[1], 3))\n",
        "    rgb[:,:,0] = r#(r/255.0)#[:,:,0]\n",
        "    rgb[:,:,1] = g#(g/255.0)#[:,:,1]\n",
        "    rgb[:,:,2] = b#(b/255.0)#[:,:,2]\n",
        "    if plot:\n",
        "        plt.imshow(rgb)\n",
        "    else:\n",
        "        return rgb\n",
        "count = min([10, len(output)])\n",
        "for i in range(count):\n",
        "  pred_class = np.argmax(output[i], axis=1).reshape((size,size))\n",
        "  img_ret = visualize(pred_class, False)\n",
        "  #img_ret = img_ret.astype(np.uint8)\n",
        "  rgb = np.array(img_ret,np.uint8)\n",
        "  img_rgb = cv2.cvtColor(rgb, cv2.COLOR_BGR2RGB)\n",
        "  plt.figure(i * 2)\n",
        "  plt.imshow(np.array(test_data[i], dtype=np.float32))\n",
        "  plt.figure(i * 2 + 1)\n",
        "  plt.imshow(img_rgb)\n",
        "plt.show()"
      ],
      "execution_count": null,
      "outputs": [
        {
          "output_type": "display_data",
          "data": {
            "image/png": "[encoded data removed]",
            "text/plain": [
              "<Figure size 432x288 with 1 Axes>"
            ]
          },
          "metadata": {
            "tags": [],
            "needs_background": "light"
          }
        },
        {
          "output_type": "display_data",
          "data": {
            "image/png": "[encoded data removed]",
            "text/plain": [
              "<Figure size 432x288 with 1 Axes>"
            ]
          },
          "metadata": {
            "tags": [],
            "needs_background": "light"
          }
        },
        {
          "output_type": "display_data",
          "data": {
            "image/png": "[encoded data removed]",
            "text/plain": [
              "<Figure size 432x288 with 1 Axes>"
            ]
          },
          "metadata": {
            "tags": [],
            "needs_background": "light"
          }
        },
        {
          "output_type": "display_data",
          "data": {
            "image/png": "[encoded data removed]",
            "text/plain": [
              "<Figure size 432x288 with 1 Axes>"
            ]
          },
          "metadata": {
            "tags": [],
            "needs_background": "light"
          }
        }
      ]
    },
    {
      "cell_type": "code",
      "metadata": {
        "id": "JPxDJfTWe8d_",
        "colab": {
          "base_uri": "https://localhost:8080/"
        },
        "outputId": "f7b3aa4c-4b34-43ad-9fa3-30816a6ace81"
      },
      "source": [
        "output[1]"
      ],
      "execution_count": null,
      "outputs": [
        {
          "output_type": "execute_result",
          "data": {
            "text/plain": [
              "array([[0.25      , 0.25      , 0.25      , 0.25      ],\n",
              "       [0.25      , 0.25      , 0.25      , 0.25      ],\n",
              "       [0.25      , 0.25      , 0.25      , 0.25      ],\n",
              "       ...,\n",
              "       [0.96607757, 0.01130748, 0.01130748, 0.01130748],\n",
              "       [0.96919125, 0.01026959, 0.01026959, 0.01026959],\n",
              "       [0.9530368 , 0.01565441, 0.01565441, 0.01565441]], dtype=float32)"
            ]
          },
          "metadata": {
            "tags": []
          },
          "execution_count": 13
        }
      ]
    }
  ]
}