{
  "nbformat": 4,
  "nbformat_minor": 0,
  "metadata": {
    "colab": {
      "provenance": [],
      "authorship_tag": "ABX9TyM7SjdgoJmjwMYwSVhASyiv",
      "include_colab_link": true
    },
    "kernelspec": {
      "name": "python3",
      "display_name": "Python 3"
    },
    "language_info": {
      "name": "python"
    }
  },
  "cells": [
    {
      "cell_type": "markdown",
      "metadata": {
        "id": "view-in-github",
        "colab_type": "text"
      },
      "source": [
        "<a href=\"https://colab.research.google.com/github/ShinyRyo/100knocks-preprocess/blob/master/%E3%80%90%E7%B7%B4%E7%BF%92%E5%95%8F%E9%A1%8C%E3%80%91%E9%8A%80%E8%A1%8C%E3%81%AE%E9%A1%A7%E5%AE%A2%E3%82%BF%E3%83%BC%E3%82%B2%E3%83%86%E3%82%A3%E3%83%B3%E3%82%B0.ipynb\" target=\"_parent\"><img src=\"https://colab.research.google.com/assets/colab-badge.svg\" alt=\"Open In Colab\"/></a>"
      ]
    },
    {
      "cell_type": "markdown",
      "source": [
        "# 1.データの取得"
      ],
      "metadata": {
        "id": "DXbhNDH_puUl"
      }
    },
    {
      "cell_type": "markdown",
      "source": [
        "# 2.データの読み込み"
      ],
      "metadata": {
        "id": "1OfQhEa_puKs"
      }
    },
    {
      "cell_type": "markdown",
      "source": [
        "# 3.前処理"
      ],
      "metadata": {
        "id": "XdM4ktwtp4Kw"
      }
    },
    {
      "cell_type": "code",
      "execution_count": null,
      "metadata": {
        "id": "d2uK1-ABpQju"
      },
      "outputs": [],
      "source": []
    }
  ]
}